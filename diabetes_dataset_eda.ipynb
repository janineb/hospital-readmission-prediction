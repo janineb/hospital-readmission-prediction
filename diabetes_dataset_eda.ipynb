{
 "cells": [
  {
   "cell_type": "markdown",
   "metadata": {},
   "source": [
    "## EDA for Springboard Capstone Project 1 ##\n",
    "\n",
    "\n",
    "Prediction of hospital readmission rate for patients with an existing diagnosis based on factors measured at time of intial admission.\n",
    "\n",
    "The dataset I will be using was originally constructed by researchers at Virginia Commonwealth University to see whether the decision to take a measurement of HbA1c (a test to measure glucose in diabetic patients) during hospitalization led to lower rate of hospital readmission. The HbA1c test is considered by the researchers to be a proxy for a more active management of the diabetes in the patient.\n",
    "\n",
    "In this capstone project, I will repurpose the data set to perform a correlational analysis/ predictive modeling to determine whether one or more variables are predictive of whether or not a patient will be readmitted to the hospital within 30 days of discharge. Time allowing, the analysis may be extended to see whether prediction of readmission after 30 days can also be predicted.\n",
    "\n",
    "As a first step, I will perform exploratory data analysis (EDA) to see if there are any interesting trends, correlations, or anomalies.\n"
   ]
  },
  {
   "cell_type": "code",
   "execution_count": 1,
   "metadata": {},
   "outputs": [],
   "source": [
    "import pandas as pd\n",
    "import numpy as np\n",
    "import matplotlib.pyplot as plt\n",
    "import seaborn as sns"
   ]
  },
  {
   "cell_type": "markdown",
   "metadata": {},
   "source": [
    "The data set, ‘Diabetes 130-US hospitals for years 1999-2008 Data Set’ is an open dataset that is obtainable at the UCI Machine Learning repository: https://archive.ics.uci.edu/ml/datasets/Diabetes+130-US+hospitals+for+years+1999-2008#"
   ]
  },
  {
   "cell_type": "code",
   "execution_count": 2,
   "metadata": {},
   "outputs": [
    {
     "data": {
      "text/html": [
       "<div>\n",
       "<style scoped>\n",
       "    .dataframe tbody tr th:only-of-type {\n",
       "        vertical-align: middle;\n",
       "    }\n",
       "\n",
       "    .dataframe tbody tr th {\n",
       "        vertical-align: top;\n",
       "    }\n",
       "\n",
       "    .dataframe thead th {\n",
       "        text-align: right;\n",
       "    }\n",
       "</style>\n",
       "<table border=\"1\" class=\"dataframe\">\n",
       "  <thead>\n",
       "    <tr style=\"text-align: right;\">\n",
       "      <th></th>\n",
       "      <th>Description and values</th>\n",
       "      <th>Feature name</th>\n",
       "      <th>Type</th>\n",
       "    </tr>\n",
       "  </thead>\n",
       "  <tbody>\n",
       "    <tr>\n",
       "      <th>0</th>\n",
       "      <td>Unique identifier of an encounter</td>\n",
       "      <td>Encounter ID</td>\n",
       "      <td>Numeric</td>\n",
       "    </tr>\n",
       "    <tr>\n",
       "      <th>1</th>\n",
       "      <td>Unique identifier of a patient</td>\n",
       "      <td>Patient number</td>\n",
       "      <td>Numeric</td>\n",
       "    </tr>\n",
       "    <tr>\n",
       "      <th>2</th>\n",
       "      <td>Values: Caucasian, Asian, African American, Hispanic, and other</td>\n",
       "      <td>Race</td>\n",
       "      <td>Nominal</td>\n",
       "    </tr>\n",
       "    <tr>\n",
       "      <th>3</th>\n",
       "      <td>Values: male, female, and unknown/invalid</td>\n",
       "      <td>Gender</td>\n",
       "      <td>Nominal</td>\n",
       "    </tr>\n",
       "    <tr>\n",
       "      <th>4</th>\n",
       "      <td>Grouped in 10-year intervals: 0, 10), 10, 20), â€¦, 90, 100)</td>\n",
       "      <td>Age</td>\n",
       "      <td>Nominal</td>\n",
       "    </tr>\n",
       "    <tr>\n",
       "      <th>5</th>\n",
       "      <td>Weight in pounds.</td>\n",
       "      <td>Weight</td>\n",
       "      <td>Numeric</td>\n",
       "    </tr>\n",
       "    <tr>\n",
       "      <th>6</th>\n",
       "      <td>Integer identifier corresponding to 9 distinct values, for example, emergency, urgent, elective, newborn, and not available</td>\n",
       "      <td>Admission type</td>\n",
       "      <td>Nominal</td>\n",
       "    </tr>\n",
       "    <tr>\n",
       "      <th>7</th>\n",
       "      <td>Integer identifier corresponding to 29 distinct values, for example, discharged to home, expired, and not available</td>\n",
       "      <td>Discharge disposition</td>\n",
       "      <td>Nominal</td>\n",
       "    </tr>\n",
       "    <tr>\n",
       "      <th>8</th>\n",
       "      <td>Integer identifier corresponding to 21 distinct values, for example, physician referral, emergency room, and transfer from a hospital</td>\n",
       "      <td>Admission source</td>\n",
       "      <td>Nominal</td>\n",
       "    </tr>\n",
       "    <tr>\n",
       "      <th>9</th>\n",
       "      <td>Integer number of days between admission and discharge</td>\n",
       "      <td>Time in hospital</td>\n",
       "      <td>Numeric</td>\n",
       "    </tr>\n",
       "    <tr>\n",
       "      <th>10</th>\n",
       "      <td>Integer identifier corresponding to 23 distinct values, for example, Blue Cross/Blue Shield, Medicare, and self-pay</td>\n",
       "      <td>Payer code</td>\n",
       "      <td>Nominal</td>\n",
       "    </tr>\n",
       "    <tr>\n",
       "      <th>11</th>\n",
       "      <td>Integer identifier of a specialty of the admitting physician, corresponding to 84 distinct values, for example, cardiology, internal medicine, family/general practice, and surgeon</td>\n",
       "      <td>Medical specialty</td>\n",
       "      <td>Nominal</td>\n",
       "    </tr>\n",
       "    <tr>\n",
       "      <th>12</th>\n",
       "      <td>Number of lab tests performed during the encounter</td>\n",
       "      <td>Number of lab procedures</td>\n",
       "      <td>Numeric</td>\n",
       "    </tr>\n",
       "    <tr>\n",
       "      <th>13</th>\n",
       "      <td>Number of procedures (other than lab tests) performed during the encounter</td>\n",
       "      <td>Number of procedures</td>\n",
       "      <td>Numeric</td>\n",
       "    </tr>\n",
       "    <tr>\n",
       "      <th>14</th>\n",
       "      <td>Number of distinct generic names administered during the encounter</td>\n",
       "      <td>Number of medications</td>\n",
       "      <td>Numeric</td>\n",
       "    </tr>\n",
       "    <tr>\n",
       "      <th>15</th>\n",
       "      <td>Number of outpatient visits of the patient in the year preceding the encounter</td>\n",
       "      <td>Number of outpatient visits</td>\n",
       "      <td>Numeric</td>\n",
       "    </tr>\n",
       "    <tr>\n",
       "      <th>16</th>\n",
       "      <td>Number of emergency visits of the patient in the year preceding the encounter</td>\n",
       "      <td>Number of emergency visits</td>\n",
       "      <td>Numeric</td>\n",
       "    </tr>\n",
       "    <tr>\n",
       "      <th>17</th>\n",
       "      <td>Number of inpatient visits of the patient in the year preceding the encounter</td>\n",
       "      <td>Number of inpatient visits</td>\n",
       "      <td>Numeric</td>\n",
       "    </tr>\n",
       "    <tr>\n",
       "      <th>18</th>\n",
       "      <td>The primary diagnosis (coded as first three digits of ICD9); 848 distinct values</td>\n",
       "      <td>Diagnosis 1</td>\n",
       "      <td>Nominal</td>\n",
       "    </tr>\n",
       "    <tr>\n",
       "      <th>19</th>\n",
       "      <td>Secondary diagnosis (coded as first three digits of ICD9); 923 distinct values</td>\n",
       "      <td>Diagnosis 2</td>\n",
       "      <td>Nominal</td>\n",
       "    </tr>\n",
       "    <tr>\n",
       "      <th>20</th>\n",
       "      <td>Additional secondary diagnosis (coded as first three digits of ICD9); 954 distinct values</td>\n",
       "      <td>Diagnosis 3</td>\n",
       "      <td>Nominal</td>\n",
       "    </tr>\n",
       "    <tr>\n",
       "      <th>21</th>\n",
       "      <td>Number of diagnoses entered to the system</td>\n",
       "      <td>Number of diagnoses</td>\n",
       "      <td>Numeric</td>\n",
       "    </tr>\n",
       "    <tr>\n",
       "      <th>22</th>\n",
       "      <td>Indicates the range of the result or if the test was not taken. Values: â€œ&gt;200,â€ â€œ&gt;300,â€ â€œnormal,â€ and â€œnoneâ€ if not measured</td>\n",
       "      <td>Glucose serum test result</td>\n",
       "      <td>Nominal</td>\n",
       "    </tr>\n",
       "    <tr>\n",
       "      <th>23</th>\n",
       "      <td>Indicates the range of the result or if the test was not taken. Values: â€œ&gt;8â€ if the result was greater than 8%, â€œ&gt;7â€ if the result was greater than 7% but less than 8%, â€œnormalâ€ if the result was less than 7%, and â€œnoneâ€ if not measured.</td>\n",
       "      <td>A1c test result</td>\n",
       "      <td>Nominal</td>\n",
       "    </tr>\n",
       "    <tr>\n",
       "      <th>24</th>\n",
       "      <td>Indicates if there was a change in diabetic medications (either dosage or generic name). Values: â€œchangeâ€ and â€œno changeâ€</td>\n",
       "      <td>Change of medications</td>\n",
       "      <td>Nominal</td>\n",
       "    </tr>\n",
       "    <tr>\n",
       "      <th>25</th>\n",
       "      <td>Indicates if there was any diabetic medication prescribed. Values: â€œyesâ€ and â€œnoâ€</td>\n",
       "      <td>Diabetes medications</td>\n",
       "      <td>Nominal</td>\n",
       "    </tr>\n",
       "    <tr>\n",
       "      <th>26</th>\n",
       "      <td>the feature indicates whether the drug was prescribed or there was a change in the dosage. Values: “up” if the dosage was increased during the encounter, “down” if the dosage was decreased, “steady” if the dosage did not change, and “no” if the drug was not prescribed</td>\n",
       "      <td>metformin</td>\n",
       "      <td>Nominal</td>\n",
       "    </tr>\n",
       "    <tr>\n",
       "      <th>27</th>\n",
       "      <td>the feature indicates whether the drug was prescribed or there was a change in the dosage. Values: “up” if the dosage was increased during the encounter, “down” if the dosage was decreased, “steady” if the dosage did not change, and “no” if the drug was not prescribed</td>\n",
       "      <td>repaglinide</td>\n",
       "      <td>Nominal</td>\n",
       "    </tr>\n",
       "    <tr>\n",
       "      <th>28</th>\n",
       "      <td>the feature indicates whether the drug was prescribed or there was a change in the dosage. Values: “up” if the dosage was increased during the encounter, “down” if the dosage was decreased, “steady” if the dosage did not change, and “no” if the drug was not prescribed</td>\n",
       "      <td>nateglinide</td>\n",
       "      <td>Nominal</td>\n",
       "    </tr>\n",
       "    <tr>\n",
       "      <th>29</th>\n",
       "      <td>the feature indicates whether the drug was prescribed or there was a change in the dosage. Values: “up” if the dosage was increased during the encounter, “down” if the dosage was decreased, “steady” if the dosage did not change, and “no” if the drug was not prescribed</td>\n",
       "      <td>chlorpropamide</td>\n",
       "      <td>Nominal</td>\n",
       "    </tr>\n",
       "    <tr>\n",
       "      <th>30</th>\n",
       "      <td>the feature indicates whether the drug was prescribed or there was a change in the dosage. Values: “up” if the dosage was increased during the encounter, “down” if the dosage was decreased, “steady” if the dosage did not change, and “no” if the drug was not prescribed</td>\n",
       "      <td>glimepiride</td>\n",
       "      <td>Nominal</td>\n",
       "    </tr>\n",
       "    <tr>\n",
       "      <th>31</th>\n",
       "      <td>the feature indicates whether the drug was prescribed or there was a change in the dosage. Values: “up” if the dosage was increased during the encounter, “down” if the dosage was decreased, “steady” if the dosage did not change, and “no” if the drug was not prescribed</td>\n",
       "      <td>acetohexamide</td>\n",
       "      <td>Nominal</td>\n",
       "    </tr>\n",
       "    <tr>\n",
       "      <th>32</th>\n",
       "      <td>the feature indicates whether the drug was prescribed or there was a change in the dosage. Values: “up” if the dosage was increased during the encounter, “down” if the dosage was decreased, “steady” if the dosage did not change, and “no” if the drug was not prescribed</td>\n",
       "      <td>glipizide</td>\n",
       "      <td>Nominal</td>\n",
       "    </tr>\n",
       "    <tr>\n",
       "      <th>33</th>\n",
       "      <td>the feature indicates whether the drug was prescribed or there was a change in the dosage. Values: “up” if the dosage was increased during the encounter, “down” if the dosage was decreased, “steady” if the dosage did not change, and “no” if the drug was not prescribed</td>\n",
       "      <td>glyburide</td>\n",
       "      <td>Nominal</td>\n",
       "    </tr>\n",
       "    <tr>\n",
       "      <th>34</th>\n",
       "      <td>the feature indicates whether the drug was prescribed or there was a change in the dosage. Values: “up” if the dosage was increased during the encounter, “down” if the dosage was decreased, “steady” if the dosage did not change, and “no” if the drug was not prescribed</td>\n",
       "      <td>tolbutamide</td>\n",
       "      <td>Nominal</td>\n",
       "    </tr>\n",
       "    <tr>\n",
       "      <th>35</th>\n",
       "      <td>the feature indicates whether the drug was prescribed or there was a change in the dosage. Values: “up” if the dosage was increased during the encounter, “down” if the dosage was decreased, “steady” if the dosage did not change, and “no” if the drug was not prescribed</td>\n",
       "      <td>pioglitazone</td>\n",
       "      <td>Nominal</td>\n",
       "    </tr>\n",
       "    <tr>\n",
       "      <th>36</th>\n",
       "      <td>the feature indicates whether the drug was prescribed or there was a change in the dosage. Values: “up” if the dosage was increased during the encounter, “down” if the dosage was decreased, “steady” if the dosage did not change, and “no” if the drug was not prescribed</td>\n",
       "      <td>rosiglitazone</td>\n",
       "      <td>Nominal</td>\n",
       "    </tr>\n",
       "    <tr>\n",
       "      <th>37</th>\n",
       "      <td>the feature indicates whether the drug was prescribed or there was a change in the dosage. Values: “up” if the dosage was increased during the encounter, “down” if the dosage was decreased, “steady” if the dosage did not change, and “no” if the drug was not prescribed</td>\n",
       "      <td>acarbose</td>\n",
       "      <td>Nominal</td>\n",
       "    </tr>\n",
       "    <tr>\n",
       "      <th>38</th>\n",
       "      <td>the feature indicates whether the drug was prescribed or there was a change in the dosage. Values: “up” if the dosage was increased during the encounter, “down” if the dosage was decreased, “steady” if the dosage did not change, and “no” if the drug was not prescribed</td>\n",
       "      <td>miglitol</td>\n",
       "      <td>Nominal</td>\n",
       "    </tr>\n",
       "    <tr>\n",
       "      <th>39</th>\n",
       "      <td>the feature indicates whether the drug was prescribed or there was a change in the dosage. Values: “up” if the dosage was increased during the encounter, “down” if the dosage was decreased, “steady” if the dosage did not change, and “no” if the drug was not prescribed</td>\n",
       "      <td>troglitazone</td>\n",
       "      <td>Nominal</td>\n",
       "    </tr>\n",
       "    <tr>\n",
       "      <th>40</th>\n",
       "      <td>the feature indicates whether the drug was prescribed or there was a change in the dosage. Values: “up” if the dosage was increased during the encounter, “down” if the dosage was decreased, “steady” if the dosage did not change, and “no” if the drug was not prescribed</td>\n",
       "      <td>tolazamide</td>\n",
       "      <td>Nominal</td>\n",
       "    </tr>\n",
       "    <tr>\n",
       "      <th>41</th>\n",
       "      <td>the feature indicates whether the drug was prescribed or there was a change in the dosage. Values: “up” if the dosage was increased during the encounter, “down” if the dosage was decreased, “steady” if the dosage did not change, and “no” if the drug was not prescribed</td>\n",
       "      <td>examide</td>\n",
       "      <td>Nominal</td>\n",
       "    </tr>\n",
       "    <tr>\n",
       "      <th>42</th>\n",
       "      <td>the feature indicates whether the drug was prescribed or there was a change in the dosage. Values: “up” if the dosage was increased during the encounter, “down” if the dosage was decreased, “steady” if the dosage did not change, and “no” if the drug was not prescribed</td>\n",
       "      <td>sitagliptin</td>\n",
       "      <td>Nominal</td>\n",
       "    </tr>\n",
       "    <tr>\n",
       "      <th>43</th>\n",
       "      <td>the feature indicates whether the drug was prescribed or there was a change in the dosage. Values: “up” if the dosage was increased during the encounter, “down” if the dosage was decreased, “steady” if the dosage did not change, and “no” if the drug was not prescribed</td>\n",
       "      <td>insulin</td>\n",
       "      <td>Nominal</td>\n",
       "    </tr>\n",
       "    <tr>\n",
       "      <th>44</th>\n",
       "      <td>the feature indicates whether the drug was prescribed or there was a change in the dosage. Values: “up” if the dosage was increased during the encounter, “down” if the dosage was decreased, “steady” if the dosage did not change, and “no” if the drug was not prescribed</td>\n",
       "      <td>glyburide-metformin</td>\n",
       "      <td>Nominal</td>\n",
       "    </tr>\n",
       "    <tr>\n",
       "      <th>45</th>\n",
       "      <td>the feature indicates whether the drug was prescribed or there was a change in the dosage. Values: “up” if the dosage was increased during the encounter, “down” if the dosage was decreased, “steady” if the dosage did not change, and “no” if the drug was not prescribed</td>\n",
       "      <td>glipizide-metformin</td>\n",
       "      <td>Nominal</td>\n",
       "    </tr>\n",
       "    <tr>\n",
       "      <th>46</th>\n",
       "      <td>the feature indicates whether the drug was prescribed or there was a change in the dosage. Values: “up” if the dosage was increased during the encounter, “down” if the dosage was decreased, “steady” if the dosage did not change, and “no” if the drug was not prescribed</td>\n",
       "      <td>glimepiride-pioglitazone</td>\n",
       "      <td>Nominal</td>\n",
       "    </tr>\n",
       "    <tr>\n",
       "      <th>47</th>\n",
       "      <td>the feature indicates whether the drug was prescribed or there was a change in the dosage. Values: “up” if the dosage was increased during the encounter, “down” if the dosage was decreased, “steady” if the dosage did not change, and “no” if the drug was not prescribed</td>\n",
       "      <td>metformin-rosiglitazone</td>\n",
       "      <td>Nominal</td>\n",
       "    </tr>\n",
       "    <tr>\n",
       "      <th>48</th>\n",
       "      <td>the feature indicates whether the drug was prescribed or there was a change in the dosage. Values: “up” if the dosage was increased during the encounter, “down” if the dosage was decreased, “steady” if the dosage did not change, and “no” if the drug was not prescribed</td>\n",
       "      <td>metformin-pioglitazone</td>\n",
       "      <td>Nominal</td>\n",
       "    </tr>\n",
       "    <tr>\n",
       "      <th>49</th>\n",
       "      <td>Days to inpatient readmission. Values: â€œ&lt;30â€ if the patient was readmitted in less than 30 days, â€œ&gt;30â€ if the patient was readmitted in more than 30 days, and â€œNoâ€ for no record of readmission.</td>\n",
       "      <td>Readmitted</td>\n",
       "      <td>Nominal</td>\n",
       "    </tr>\n",
       "  </tbody>\n",
       "</table>\n",
       "</div>"
      ],
      "text/plain": [
       "                                                                                                                                                                                                                                                          Description and values  \\\n",
       "0   Unique identifier of an encounter                                                                                                                                                                                                                                              \n",
       "1   Unique identifier of a patient                                                                                                                                                                                                                                                 \n",
       "2   Values: Caucasian, Asian, African American, Hispanic, and other                                                                                                                                                                                                                \n",
       "3   Values: male, female, and unknown/invalid                                                                                                                                                                                                                                      \n",
       "4   Grouped in 10-year intervals: 0, 10), 10, 20), â€¦, 90, 100)                                                                                                                                                                                                                   \n",
       "5   Weight in pounds.                                                                                                                                                                                                                                                              \n",
       "6   Integer identifier corresponding to 9 distinct values, for example, emergency, urgent, elective, newborn, and not available                                                                                                                                                    \n",
       "7   Integer identifier corresponding to 29 distinct values, for example, discharged to home, expired, and not available                                                                                                                                                            \n",
       "8   Integer identifier corresponding to 21 distinct values, for example, physician referral, emergency room, and transfer from a hospital                                                                                                                                          \n",
       "9   Integer number of days between admission and discharge                                                                                                                                                                                                                         \n",
       "10  Integer identifier corresponding to 23 distinct values, for example, Blue Cross/Blue Shield, Medicare, and self-pay                                                                                                                                                            \n",
       "11  Integer identifier of a specialty of the admitting physician, corresponding to 84 distinct values, for example, cardiology, internal medicine, family/general practice, and surgeon                                                                                            \n",
       "12  Number of lab tests performed during the encounter                                                                                                                                                                                                                             \n",
       "13  Number of procedures (other than lab tests) performed during the encounter                                                                                                                                                                                                     \n",
       "14  Number of distinct generic names administered during the encounter                                                                                                                                                                                                             \n",
       "15  Number of outpatient visits of the patient in the year preceding the encounter                                                                                                                                                                                                 \n",
       "16  Number of emergency visits of the patient in the year preceding the encounter                                                                                                                                                                                                  \n",
       "17  Number of inpatient visits of the patient in the year preceding the encounter                                                                                                                                                                                                  \n",
       "18  The primary diagnosis (coded as first three digits of ICD9); 848 distinct values                                                                                                                                                                                               \n",
       "19  Secondary diagnosis (coded as first three digits of ICD9); 923 distinct values                                                                                                                                                                                                 \n",
       "20  Additional secondary diagnosis (coded as first three digits of ICD9); 954 distinct values                                                                                                                                                                                      \n",
       "21  Number of diagnoses entered to the system                                                                                                                                                                                                                                      \n",
       "22  Indicates the range of the result or if the test was not taken. Values: â€œ>200,â€ â€œ>300,â€ â€œnormal,â€ and â€œnoneâ€ if not measured                                                                                                                                   \n",
       "23  Indicates the range of the result or if the test was not taken. Values: â€œ>8â€ if the result was greater than 8%, â€œ>7â€ if the result was greater than 7% but less than 8%, â€œnormalâ€ if the result was less than 7%, and â€œnoneâ€ if not measured.                  \n",
       "24  Indicates if there was a change in diabetic medications (either dosage or generic name). Values: â€œchangeâ€ and â€œno changeâ€                                                                                                                                              \n",
       "25  Indicates if there was any diabetic medication prescribed. Values: â€œyesâ€ and â€œnoâ€                                                                                                                                                                                      \n",
       "26  the feature indicates whether the drug was prescribed or there was a change in the dosage. Values: “up” if the dosage was increased during the encounter, “down” if the dosage was decreased, “steady” if the dosage did not change, and “no” if the drug was not prescribed   \n",
       "27  the feature indicates whether the drug was prescribed or there was a change in the dosage. Values: “up” if the dosage was increased during the encounter, “down” if the dosage was decreased, “steady” if the dosage did not change, and “no” if the drug was not prescribed   \n",
       "28  the feature indicates whether the drug was prescribed or there was a change in the dosage. Values: “up” if the dosage was increased during the encounter, “down” if the dosage was decreased, “steady” if the dosage did not change, and “no” if the drug was not prescribed   \n",
       "29  the feature indicates whether the drug was prescribed or there was a change in the dosage. Values: “up” if the dosage was increased during the encounter, “down” if the dosage was decreased, “steady” if the dosage did not change, and “no” if the drug was not prescribed   \n",
       "30  the feature indicates whether the drug was prescribed or there was a change in the dosage. Values: “up” if the dosage was increased during the encounter, “down” if the dosage was decreased, “steady” if the dosage did not change, and “no” if the drug was not prescribed   \n",
       "31  the feature indicates whether the drug was prescribed or there was a change in the dosage. Values: “up” if the dosage was increased during the encounter, “down” if the dosage was decreased, “steady” if the dosage did not change, and “no” if the drug was not prescribed   \n",
       "32  the feature indicates whether the drug was prescribed or there was a change in the dosage. Values: “up” if the dosage was increased during the encounter, “down” if the dosage was decreased, “steady” if the dosage did not change, and “no” if the drug was not prescribed   \n",
       "33  the feature indicates whether the drug was prescribed or there was a change in the dosage. Values: “up” if the dosage was increased during the encounter, “down” if the dosage was decreased, “steady” if the dosage did not change, and “no” if the drug was not prescribed   \n",
       "34  the feature indicates whether the drug was prescribed or there was a change in the dosage. Values: “up” if the dosage was increased during the encounter, “down” if the dosage was decreased, “steady” if the dosage did not change, and “no” if the drug was not prescribed   \n",
       "35  the feature indicates whether the drug was prescribed or there was a change in the dosage. Values: “up” if the dosage was increased during the encounter, “down” if the dosage was decreased, “steady” if the dosage did not change, and “no” if the drug was not prescribed   \n",
       "36  the feature indicates whether the drug was prescribed or there was a change in the dosage. Values: “up” if the dosage was increased during the encounter, “down” if the dosage was decreased, “steady” if the dosage did not change, and “no” if the drug was not prescribed   \n",
       "37  the feature indicates whether the drug was prescribed or there was a change in the dosage. Values: “up” if the dosage was increased during the encounter, “down” if the dosage was decreased, “steady” if the dosage did not change, and “no” if the drug was not prescribed   \n",
       "38  the feature indicates whether the drug was prescribed or there was a change in the dosage. Values: “up” if the dosage was increased during the encounter, “down” if the dosage was decreased, “steady” if the dosage did not change, and “no” if the drug was not prescribed   \n",
       "39  the feature indicates whether the drug was prescribed or there was a change in the dosage. Values: “up” if the dosage was increased during the encounter, “down” if the dosage was decreased, “steady” if the dosage did not change, and “no” if the drug was not prescribed   \n",
       "40  the feature indicates whether the drug was prescribed or there was a change in the dosage. Values: “up” if the dosage was increased during the encounter, “down” if the dosage was decreased, “steady” if the dosage did not change, and “no” if the drug was not prescribed   \n",
       "41  the feature indicates whether the drug was prescribed or there was a change in the dosage. Values: “up” if the dosage was increased during the encounter, “down” if the dosage was decreased, “steady” if the dosage did not change, and “no” if the drug was not prescribed   \n",
       "42  the feature indicates whether the drug was prescribed or there was a change in the dosage. Values: “up” if the dosage was increased during the encounter, “down” if the dosage was decreased, “steady” if the dosage did not change, and “no” if the drug was not prescribed   \n",
       "43  the feature indicates whether the drug was prescribed or there was a change in the dosage. Values: “up” if the dosage was increased during the encounter, “down” if the dosage was decreased, “steady” if the dosage did not change, and “no” if the drug was not prescribed   \n",
       "44  the feature indicates whether the drug was prescribed or there was a change in the dosage. Values: “up” if the dosage was increased during the encounter, “down” if the dosage was decreased, “steady” if the dosage did not change, and “no” if the drug was not prescribed   \n",
       "45  the feature indicates whether the drug was prescribed or there was a change in the dosage. Values: “up” if the dosage was increased during the encounter, “down” if the dosage was decreased, “steady” if the dosage did not change, and “no” if the drug was not prescribed   \n",
       "46  the feature indicates whether the drug was prescribed or there was a change in the dosage. Values: “up” if the dosage was increased during the encounter, “down” if the dosage was decreased, “steady” if the dosage did not change, and “no” if the drug was not prescribed   \n",
       "47  the feature indicates whether the drug was prescribed or there was a change in the dosage. Values: “up” if the dosage was increased during the encounter, “down” if the dosage was decreased, “steady” if the dosage did not change, and “no” if the drug was not prescribed   \n",
       "48  the feature indicates whether the drug was prescribed or there was a change in the dosage. Values: “up” if the dosage was increased during the encounter, “down” if the dosage was decreased, “steady” if the dosage did not change, and “no” if the drug was not prescribed   \n",
       "49  Days to inpatient readmission. Values: â€œ<30â€ if the patient was readmitted in less than 30 days, â€œ>30â€ if the patient was readmitted in more than 30 days, and â€œNoâ€ for no record of readmission.                                                                  \n",
       "\n",
       "                   Feature name     Type  \n",
       "0   Encounter ID                 Numeric  \n",
       "1   Patient number               Numeric  \n",
       "2   Race                         Nominal  \n",
       "3   Gender                       Nominal  \n",
       "4   Age                          Nominal  \n",
       "5   Weight                       Numeric  \n",
       "6   Admission type               Nominal  \n",
       "7   Discharge disposition        Nominal  \n",
       "8   Admission source             Nominal  \n",
       "9   Time in hospital             Numeric  \n",
       "10  Payer code                   Nominal  \n",
       "11  Medical specialty            Nominal  \n",
       "12  Number of lab procedures     Numeric  \n",
       "13  Number of procedures         Numeric  \n",
       "14  Number of medications        Numeric  \n",
       "15  Number of outpatient visits  Numeric  \n",
       "16  Number of emergency visits   Numeric  \n",
       "17  Number of inpatient visits   Numeric  \n",
       "18  Diagnosis 1                  Nominal  \n",
       "19  Diagnosis 2                  Nominal  \n",
       "20  Diagnosis 3                  Nominal  \n",
       "21  Number of diagnoses          Numeric  \n",
       "22  Glucose serum test result    Nominal  \n",
       "23  A1c test result              Nominal  \n",
       "24  Change of medications        Nominal  \n",
       "25  Diabetes medications         Nominal  \n",
       "26  metformin                    Nominal  \n",
       "27  repaglinide                  Nominal  \n",
       "28  nateglinide                  Nominal  \n",
       "29  chlorpropamide               Nominal  \n",
       "30  glimepiride                  Nominal  \n",
       "31  acetohexamide                Nominal  \n",
       "32  glipizide                    Nominal  \n",
       "33  glyburide                    Nominal  \n",
       "34  tolbutamide                  Nominal  \n",
       "35  pioglitazone                 Nominal  \n",
       "36  rosiglitazone                Nominal  \n",
       "37  acarbose                     Nominal  \n",
       "38  miglitol                     Nominal  \n",
       "39  troglitazone                 Nominal  \n",
       "40  tolazamide                   Nominal  \n",
       "41  examide                      Nominal  \n",
       "42  sitagliptin                  Nominal  \n",
       "43  insulin                      Nominal  \n",
       "44  glyburide-metformin          Nominal  \n",
       "45  glipizide-metformin          Nominal  \n",
       "46  glimepiride-pioglitazone     Nominal  \n",
       "47  metformin-rosiglitazone      Nominal  \n",
       "48  metformin-pioglitazone       Nominal  \n",
       "49  Readmitted                   Nominal  "
      ]
     },
     "execution_count": 2,
     "metadata": {},
     "output_type": "execute_result"
    }
   ],
   "source": [
    "# import the data dictionary for reference generated in the cleaning/wrangling Notebook\n",
    "data_dictionary = pd.read_csv('data_dictionary.csv', index_col = 0)\n",
    "pd.set_option('display.max_colwidth', -1)\n",
    "data_dictionary"
   ]
  },
  {
   "cell_type": "code",
   "execution_count": 3,
   "metadata": {
    "scrolled": true
   },
   "outputs": [
    {
     "data": {
      "text/html": [
       "<div>\n",
       "<style scoped>\n",
       "    .dataframe tbody tr th:only-of-type {\n",
       "        vertical-align: middle;\n",
       "    }\n",
       "\n",
       "    .dataframe tbody tr th {\n",
       "        vertical-align: top;\n",
       "    }\n",
       "\n",
       "    .dataframe thead th {\n",
       "        text-align: right;\n",
       "    }\n",
       "</style>\n",
       "<table border=\"1\" class=\"dataframe\">\n",
       "  <thead>\n",
       "    <tr style=\"text-align: right;\">\n",
       "      <th></th>\n",
       "      <th>encounter_id</th>\n",
       "      <th>patient_nbr</th>\n",
       "      <th>race</th>\n",
       "      <th>gender</th>\n",
       "      <th>age</th>\n",
       "      <th>admission_type_id</th>\n",
       "      <th>discharge_disposition_id</th>\n",
       "      <th>admission_source_id</th>\n",
       "      <th>time_in_hospital</th>\n",
       "      <th>payer_code</th>\n",
       "      <th>medical_specialty</th>\n",
       "      <th>num_lab_procedures</th>\n",
       "      <th>num_procedures</th>\n",
       "      <th>num_medications</th>\n",
       "      <th>number_outpatient</th>\n",
       "      <th>number_emergency</th>\n",
       "      <th>number_inpatient</th>\n",
       "      <th>diag_1</th>\n",
       "      <th>diag_2</th>\n",
       "      <th>diag_3</th>\n",
       "      <th>number_diagnoses</th>\n",
       "      <th>max_glu_serum</th>\n",
       "      <th>A1Cresult</th>\n",
       "      <th>metformin</th>\n",
       "      <th>repaglinide</th>\n",
       "      <th>nateglinide</th>\n",
       "      <th>chlorpropamide</th>\n",
       "      <th>glimepiride</th>\n",
       "      <th>acetohexamide</th>\n",
       "      <th>glipizide</th>\n",
       "      <th>glyburide</th>\n",
       "      <th>tolbutamide</th>\n",
       "      <th>pioglitazone</th>\n",
       "      <th>rosiglitazone</th>\n",
       "      <th>acarbose</th>\n",
       "      <th>miglitol</th>\n",
       "      <th>troglitazone</th>\n",
       "      <th>tolazamide</th>\n",
       "      <th>examide</th>\n",
       "      <th>citoglipton</th>\n",
       "      <th>insulin</th>\n",
       "      <th>glyburide-metformin</th>\n",
       "      <th>glipizide-metformin</th>\n",
       "      <th>glimepiride-pioglitazone</th>\n",
       "      <th>metformin-rosiglitazone</th>\n",
       "      <th>metformin-pioglitazone</th>\n",
       "      <th>change</th>\n",
       "      <th>diabetesMed</th>\n",
       "      <th>readmitted</th>\n",
       "      <th>readmit_bin</th>\n",
       "      <th>readmit_tri</th>\n",
       "    </tr>\n",
       "  </thead>\n",
       "  <tbody>\n",
       "    <tr>\n",
       "      <th>63242</th>\n",
       "      <td>175828296</td>\n",
       "      <td>110324205</td>\n",
       "      <td>Caucasian</td>\n",
       "      <td>Female</td>\n",
       "      <td>[60-70)</td>\n",
       "      <td>1</td>\n",
       "      <td>1</td>\n",
       "      <td>7</td>\n",
       "      <td>2</td>\n",
       "      <td>?</td>\n",
       "      <td>Family/GeneralPractice</td>\n",
       "      <td>55</td>\n",
       "      <td>0</td>\n",
       "      <td>10</td>\n",
       "      <td>0</td>\n",
       "      <td>1</td>\n",
       "      <td>0</td>\n",
       "      <td>584</td>\n",
       "      <td>276</td>\n",
       "      <td>403</td>\n",
       "      <td>8</td>\n",
       "      <td>None</td>\n",
       "      <td>None</td>\n",
       "      <td>No</td>\n",
       "      <td>No</td>\n",
       "      <td>No</td>\n",
       "      <td>No</td>\n",
       "      <td>No</td>\n",
       "      <td>No</td>\n",
       "      <td>No</td>\n",
       "      <td>No</td>\n",
       "      <td>No</td>\n",
       "      <td>No</td>\n",
       "      <td>No</td>\n",
       "      <td>No</td>\n",
       "      <td>No</td>\n",
       "      <td>No</td>\n",
       "      <td>No</td>\n",
       "      <td>No</td>\n",
       "      <td>No</td>\n",
       "      <td>Down</td>\n",
       "      <td>No</td>\n",
       "      <td>No</td>\n",
       "      <td>No</td>\n",
       "      <td>No</td>\n",
       "      <td>No</td>\n",
       "      <td>Ch</td>\n",
       "      <td>Yes</td>\n",
       "      <td>&gt;30</td>\n",
       "      <td>0</td>\n",
       "      <td>2</td>\n",
       "    </tr>\n",
       "    <tr>\n",
       "      <th>93128</th>\n",
       "      <td>331356860</td>\n",
       "      <td>134228867</td>\n",
       "      <td>Caucasian</td>\n",
       "      <td>Male</td>\n",
       "      <td>[80-90)</td>\n",
       "      <td>3</td>\n",
       "      <td>3</td>\n",
       "      <td>1</td>\n",
       "      <td>9</td>\n",
       "      <td>MC</td>\n",
       "      <td>?</td>\n",
       "      <td>56</td>\n",
       "      <td>0</td>\n",
       "      <td>15</td>\n",
       "      <td>0</td>\n",
       "      <td>0</td>\n",
       "      <td>0</td>\n",
       "      <td>38</td>\n",
       "      <td>707</td>\n",
       "      <td>599</td>\n",
       "      <td>9</td>\n",
       "      <td>None</td>\n",
       "      <td>None</td>\n",
       "      <td>No</td>\n",
       "      <td>No</td>\n",
       "      <td>No</td>\n",
       "      <td>No</td>\n",
       "      <td>No</td>\n",
       "      <td>No</td>\n",
       "      <td>No</td>\n",
       "      <td>Steady</td>\n",
       "      <td>No</td>\n",
       "      <td>No</td>\n",
       "      <td>No</td>\n",
       "      <td>No</td>\n",
       "      <td>No</td>\n",
       "      <td>No</td>\n",
       "      <td>No</td>\n",
       "      <td>No</td>\n",
       "      <td>No</td>\n",
       "      <td>Up</td>\n",
       "      <td>No</td>\n",
       "      <td>No</td>\n",
       "      <td>No</td>\n",
       "      <td>No</td>\n",
       "      <td>No</td>\n",
       "      <td>Ch</td>\n",
       "      <td>Yes</td>\n",
       "      <td>NO</td>\n",
       "      <td>0</td>\n",
       "      <td>0</td>\n",
       "    </tr>\n",
       "    <tr>\n",
       "      <th>4196</th>\n",
       "      <td>24186390</td>\n",
       "      <td>23976117</td>\n",
       "      <td>Caucasian</td>\n",
       "      <td>Female</td>\n",
       "      <td>[80-90)</td>\n",
       "      <td>5</td>\n",
       "      <td>3</td>\n",
       "      <td>17</td>\n",
       "      <td>5</td>\n",
       "      <td>?</td>\n",
       "      <td>Family/GeneralPractice</td>\n",
       "      <td>24</td>\n",
       "      <td>0</td>\n",
       "      <td>11</td>\n",
       "      <td>0</td>\n",
       "      <td>0</td>\n",
       "      <td>0</td>\n",
       "      <td>507</td>\n",
       "      <td>578</td>\n",
       "      <td>436</td>\n",
       "      <td>7</td>\n",
       "      <td>&gt;300</td>\n",
       "      <td>None</td>\n",
       "      <td>No</td>\n",
       "      <td>No</td>\n",
       "      <td>No</td>\n",
       "      <td>No</td>\n",
       "      <td>No</td>\n",
       "      <td>No</td>\n",
       "      <td>No</td>\n",
       "      <td>No</td>\n",
       "      <td>No</td>\n",
       "      <td>No</td>\n",
       "      <td>No</td>\n",
       "      <td>No</td>\n",
       "      <td>No</td>\n",
       "      <td>No</td>\n",
       "      <td>No</td>\n",
       "      <td>No</td>\n",
       "      <td>No</td>\n",
       "      <td>Steady</td>\n",
       "      <td>No</td>\n",
       "      <td>No</td>\n",
       "      <td>No</td>\n",
       "      <td>No</td>\n",
       "      <td>No</td>\n",
       "      <td>No</td>\n",
       "      <td>Yes</td>\n",
       "      <td>NO</td>\n",
       "      <td>0</td>\n",
       "      <td>0</td>\n",
       "    </tr>\n",
       "    <tr>\n",
       "      <th>87913</th>\n",
       "      <td>281575668</td>\n",
       "      <td>85232619</td>\n",
       "      <td>Caucasian</td>\n",
       "      <td>Female</td>\n",
       "      <td>[50-60)</td>\n",
       "      <td>1</td>\n",
       "      <td>3</td>\n",
       "      <td>7</td>\n",
       "      <td>5</td>\n",
       "      <td>HM</td>\n",
       "      <td>?</td>\n",
       "      <td>63</td>\n",
       "      <td>0</td>\n",
       "      <td>31</td>\n",
       "      <td>0</td>\n",
       "      <td>1</td>\n",
       "      <td>7</td>\n",
       "      <td>486</td>\n",
       "      <td>584</td>\n",
       "      <td>428</td>\n",
       "      <td>9</td>\n",
       "      <td>None</td>\n",
       "      <td>None</td>\n",
       "      <td>No</td>\n",
       "      <td>No</td>\n",
       "      <td>No</td>\n",
       "      <td>No</td>\n",
       "      <td>No</td>\n",
       "      <td>No</td>\n",
       "      <td>No</td>\n",
       "      <td>No</td>\n",
       "      <td>No</td>\n",
       "      <td>No</td>\n",
       "      <td>No</td>\n",
       "      <td>No</td>\n",
       "      <td>No</td>\n",
       "      <td>No</td>\n",
       "      <td>No</td>\n",
       "      <td>No</td>\n",
       "      <td>No</td>\n",
       "      <td>Up</td>\n",
       "      <td>No</td>\n",
       "      <td>No</td>\n",
       "      <td>No</td>\n",
       "      <td>No</td>\n",
       "      <td>No</td>\n",
       "      <td>Ch</td>\n",
       "      <td>Yes</td>\n",
       "      <td>&gt;30</td>\n",
       "      <td>0</td>\n",
       "      <td>2</td>\n",
       "    </tr>\n",
       "    <tr>\n",
       "      <th>73556</th>\n",
       "      <td>217570428</td>\n",
       "      <td>66956229</td>\n",
       "      <td>Caucasian</td>\n",
       "      <td>Female</td>\n",
       "      <td>[60-70)</td>\n",
       "      <td>1</td>\n",
       "      <td>6</td>\n",
       "      <td>7</td>\n",
       "      <td>2</td>\n",
       "      <td>MC</td>\n",
       "      <td>?</td>\n",
       "      <td>56</td>\n",
       "      <td>0</td>\n",
       "      <td>11</td>\n",
       "      <td>0</td>\n",
       "      <td>0</td>\n",
       "      <td>0</td>\n",
       "      <td>682</td>\n",
       "      <td>276</td>\n",
       "      <td>287</td>\n",
       "      <td>9</td>\n",
       "      <td>None</td>\n",
       "      <td>Norm</td>\n",
       "      <td>No</td>\n",
       "      <td>No</td>\n",
       "      <td>No</td>\n",
       "      <td>No</td>\n",
       "      <td>No</td>\n",
       "      <td>No</td>\n",
       "      <td>No</td>\n",
       "      <td>Up</td>\n",
       "      <td>No</td>\n",
       "      <td>No</td>\n",
       "      <td>No</td>\n",
       "      <td>No</td>\n",
       "      <td>No</td>\n",
       "      <td>No</td>\n",
       "      <td>No</td>\n",
       "      <td>No</td>\n",
       "      <td>No</td>\n",
       "      <td>Steady</td>\n",
       "      <td>No</td>\n",
       "      <td>No</td>\n",
       "      <td>No</td>\n",
       "      <td>No</td>\n",
       "      <td>No</td>\n",
       "      <td>Ch</td>\n",
       "      <td>Yes</td>\n",
       "      <td>NO</td>\n",
       "      <td>0</td>\n",
       "      <td>0</td>\n",
       "    </tr>\n",
       "  </tbody>\n",
       "</table>\n",
       "</div>"
      ],
      "text/plain": [
       "       encounter_id  patient_nbr       race  gender      age  \\\n",
       "63242  175828296     110324205    Caucasian  Female  [60-70)   \n",
       "93128  331356860     134228867    Caucasian  Male    [80-90)   \n",
       "4196   24186390      23976117     Caucasian  Female  [80-90)   \n",
       "87913  281575668     85232619     Caucasian  Female  [50-60)   \n",
       "73556  217570428     66956229     Caucasian  Female  [60-70)   \n",
       "\n",
       "       admission_type_id  discharge_disposition_id  admission_source_id  \\\n",
       "63242  1                  1                         7                     \n",
       "93128  3                  3                         1                     \n",
       "4196   5                  3                         17                    \n",
       "87913  1                  3                         7                     \n",
       "73556  1                  6                         7                     \n",
       "\n",
       "       time_in_hospital payer_code       medical_specialty  \\\n",
       "63242  2                 ?          Family/GeneralPractice   \n",
       "93128  9                 MC         ?                        \n",
       "4196   5                 ?          Family/GeneralPractice   \n",
       "87913  5                 HM         ?                        \n",
       "73556  2                 MC         ?                        \n",
       "\n",
       "       num_lab_procedures  num_procedures  num_medications  number_outpatient  \\\n",
       "63242  55                  0               10               0                   \n",
       "93128  56                  0               15               0                   \n",
       "4196   24                  0               11               0                   \n",
       "87913  63                  0               31               0                   \n",
       "73556  56                  0               11               0                   \n",
       "\n",
       "       number_emergency  number_inpatient diag_1 diag_2 diag_3  \\\n",
       "63242  1                 0                 584    276    403     \n",
       "93128  0                 0                 38     707    599     \n",
       "4196   0                 0                 507    578    436     \n",
       "87913  1                 7                 486    584    428     \n",
       "73556  0                 0                 682    276    287     \n",
       "\n",
       "       number_diagnoses max_glu_serum A1Cresult metformin repaglinide  \\\n",
       "63242  8                 None          None      No        No           \n",
       "93128  9                 None          None      No        No           \n",
       "4196   7                 >300          None      No        No           \n",
       "87913  9                 None          None      No        No           \n",
       "73556  9                 None          Norm      No        No           \n",
       "\n",
       "      nateglinide chlorpropamide glimepiride acetohexamide glipizide  \\\n",
       "63242  No          No             No          No            No         \n",
       "93128  No          No             No          No            No         \n",
       "4196   No          No             No          No            No         \n",
       "87913  No          No             No          No            No         \n",
       "73556  No          No             No          No            No         \n",
       "\n",
       "      glyburide tolbutamide pioglitazone rosiglitazone acarbose miglitol  \\\n",
       "63242  No        No          No           No            No       No        \n",
       "93128  Steady    No          No           No            No       No        \n",
       "4196   No        No          No           No            No       No        \n",
       "87913  No        No          No           No            No       No        \n",
       "73556  Up        No          No           No            No       No        \n",
       "\n",
       "      troglitazone tolazamide examide citoglipton insulin glyburide-metformin  \\\n",
       "63242  No           No         No      No          Down    No                   \n",
       "93128  No           No         No      No          Up      No                   \n",
       "4196   No           No         No      No          Steady  No                   \n",
       "87913  No           No         No      No          Up      No                   \n",
       "73556  No           No         No      No          Steady  No                   \n",
       "\n",
       "      glipizide-metformin glimepiride-pioglitazone metformin-rosiglitazone  \\\n",
       "63242  No                  No                       No                       \n",
       "93128  No                  No                       No                       \n",
       "4196   No                  No                       No                       \n",
       "87913  No                  No                       No                       \n",
       "73556  No                  No                       No                       \n",
       "\n",
       "      metformin-pioglitazone change diabetesMed readmitted  readmit_bin  \\\n",
       "63242  No                     Ch     Yes         >30        0             \n",
       "93128  No                     Ch     Yes         NO         0             \n",
       "4196   No                     No     Yes         NO         0             \n",
       "87913  No                     Ch     Yes         >30        0             \n",
       "73556  No                     Ch     Yes         NO         0             \n",
       "\n",
       "       readmit_tri  \n",
       "63242  2            \n",
       "93128  0            \n",
       "4196   0            \n",
       "87913  2            \n",
       "73556  0            "
      ]
     },
     "execution_count": 3,
     "metadata": {},
     "output_type": "execute_result"
    }
   ],
   "source": [
    "# import the DataFrame from the cleaning/wrangling Notebook\n",
    "df = pd.read_csv('df1.csv', index_col = 0)\n",
    "pd.set_option('display.max_columns', 500)\n",
    "df.sample(5)"
   ]
  },
  {
   "cell_type": "markdown",
   "metadata": {},
   "source": [
    "## Race ##"
   ]
  },
  {
   "cell_type": "code",
   "execution_count": 4,
   "metadata": {
    "scrolled": true
   },
   "outputs": [
    {
     "data": {
      "text/plain": [
       "Text(0,0.5,'# of encounters')"
      ]
     },
     "execution_count": 4,
     "metadata": {},
     "output_type": "execute_result"
    },
    {
     "data": {
      "image/png": "[encoded data removed]",
      "text/plain": [
       "<matplotlib.figure.Figure at 0x2c5ec96ffd0>"
      ]
     },
     "metadata": {},
     "output_type": "display_data"
    }
   ],
   "source": [
    "# The most common race is Caucasian, followed by African American.\n",
    "# Question: how do I reorder this by # of encounters (e.g., Caucasian, AfricanAmerican, ...)\n",
    "sns.set()\n",
    "plt.hist(df.race);\n",
    "plt.xlabel ('Race')\n",
    "plt.ylabel('# of encounters')"
   ]
  },
  {
   "cell_type": "code",
   "execution_count": 5,
   "metadata": {},
   "outputs": [
    {
     "name": "stdout",
     "output_type": "stream",
     "text": [
      "race\n",
      "?                  8.271007 \n",
      "AfricanAmerican    11.218116\n",
      "Asian              10.140406\n",
      "Caucasian          11.290556\n",
      "Hispanic           10.407462\n",
      "Other              9.628154 \n",
      "Name: readmit_bin, dtype: float64\n"
     ]
    },
    {
     "data": {
      "text/plain": [
       "Text(0,0.5,'% readmitted')"
      ]
     },
     "execution_count": 5,
     "metadata": {},
     "output_type": "execute_result"
    },
    {
     "data": {
      "image/png": "[encoded data removed]",
      "text/plain": [
       "<matplotlib.figure.Figure at 0x2c5ec73e198>"
      ]
     },
     "metadata": {},
     "output_type": "display_data"
    }
   ],
   "source": [
    "# Plot race vs readmission.  Race does not appear to be correlated with readmittance rate\n",
    "percent_readmit_by_race = df.groupby('race')['readmit_bin'].sum()/df.groupby('race')['readmit_bin'].count() * 100\n",
    "print(percent_readmit_by_race)\n",
    "percent_readmit_by_race.plot.bar(); plt.ylabel('% readmitted')"
   ]
  },
  {
   "cell_type": "markdown",
   "metadata": {},
   "source": [
    "# Age #\n",
    "## What is the distribution of ages?\n",
    "Interesting point: Age is distributed more towards older patients as would be expected among those admitted to a hospital with a pre-existing condition of diabetes."
   ]
  },
  {
   "cell_type": "code",
   "execution_count": 6,
   "metadata": {
    "scrolled": true
   },
   "outputs": [
    {
     "data": {
      "text/plain": [
       "[70-80)    26068\n",
       "[60-70)    22483\n",
       "[50-60)    17256\n",
       "[80-90)    17197\n",
       "[40-50)    9685 \n",
       "Name: age, dtype: int64"
      ]
     },
     "execution_count": 6,
     "metadata": {},
     "output_type": "execute_result"
    },
    {
     "data": {
      "image/png": "[encoded data removed]",
      "text/plain": [
       "<matplotlib.figure.Figure at 0x2c5ecd99eb8>"
      ]
     },
     "metadata": {},
     "output_type": "display_data"
    }
   ],
   "source": [
    "plt.hist(df.age);\n",
    "plt.xlabel('age groups')\n",
    "plt.ylabel(\"# of encounters\")\n",
    "df.age.value_counts()[:5]"
   ]
  },
  {
   "cell_type": "markdown",
   "metadata": {},
   "source": [
    "## Is Age category related to readmission rate?  \n",
    "\n",
    "Interesting point: There is some variation.  Intersting that 20-30 year olds have \n",
    "elevated % readmitted.  But there are far few in total numbers so might not be significant."
   ]
  },
  {
   "cell_type": "code",
   "execution_count": 7,
   "metadata": {},
   "outputs": [
    {
     "name": "stdout",
     "output_type": "stream",
     "text": [
      "age\n",
      "[0-10)      1.863354 \n",
      "[10-20)     5.788712 \n",
      "[20-30)     14.242607\n",
      "[30-40)     11.231788\n",
      "[40-50)     10.604027\n",
      "[50-60)     9.666203 \n",
      "[60-70)     11.128408\n",
      "[70-80)     11.773055\n",
      "[80-90)     12.083503\n",
      "[90-100)    11.099177\n",
      "Name: readmit_bin, dtype: float64\n"
     ]
    },
    {
     "data": {
      "text/plain": [
       "Text(0,0.5,'% readmitted')"
      ]
     },
     "execution_count": 7,
     "metadata": {},
     "output_type": "execute_result"
    },
    {
     "data": {
      "image/png": "[encoded data removed]",
      "text/plain": [
       "<matplotlib.figure.Figure at 0x2c5eca0b470>"
      ]
     },
     "metadata": {},
     "output_type": "display_data"
    }
   ],
   "source": [
    "percent_readmit_by_age = df.groupby('age')['readmit_bin'].sum()/df.groupby('age')['readmit_bin'].count() * 100\n",
    "print(percent_readmit_by_age)\n",
    "percent_readmit_by_age.plot.bar(); plt.ylabel('% readmitted')"
   ]
  },
  {
   "cell_type": "markdown",
   "metadata": {},
   "source": [
    "# Admission Type #"
   ]
  },
  {
   "cell_type": "code",
   "execution_count": 8,
   "metadata": {},
   "outputs": [
    {
     "data": {
      "text/html": [
       "<div>\n",
       "<style scoped>\n",
       "    .dataframe tbody tr th:only-of-type {\n",
       "        vertical-align: middle;\n",
       "    }\n",
       "\n",
       "    .dataframe tbody tr th {\n",
       "        vertical-align: top;\n",
       "    }\n",
       "\n",
       "    .dataframe thead th {\n",
       "        text-align: right;\n",
       "    }\n",
       "</style>\n",
       "<table border=\"1\" class=\"dataframe\">\n",
       "  <thead>\n",
       "    <tr style=\"text-align: right;\">\n",
       "      <th></th>\n",
       "      <th># of admissions</th>\n",
       "      <th>admission type</th>\n",
       "      <th>description</th>\n",
       "    </tr>\n",
       "  </thead>\n",
       "  <tbody>\n",
       "    <tr>\n",
       "      <th>0</th>\n",
       "      <td>53990</td>\n",
       "      <td>1</td>\n",
       "      <td>Emergency</td>\n",
       "    </tr>\n",
       "    <tr>\n",
       "      <th>1</th>\n",
       "      <td>18480</td>\n",
       "      <td>2</td>\n",
       "      <td>Urgent</td>\n",
       "    </tr>\n",
       "    <tr>\n",
       "      <th>2</th>\n",
       "      <td>18869</td>\n",
       "      <td>3</td>\n",
       "      <td>Elective</td>\n",
       "    </tr>\n",
       "    <tr>\n",
       "      <th>3</th>\n",
       "      <td>10</td>\n",
       "      <td>4</td>\n",
       "      <td>Newborn</td>\n",
       "    </tr>\n",
       "    <tr>\n",
       "      <th>4</th>\n",
       "      <td>4785</td>\n",
       "      <td>5</td>\n",
       "      <td>Not Available</td>\n",
       "    </tr>\n",
       "    <tr>\n",
       "      <th>5</th>\n",
       "      <td>5291</td>\n",
       "      <td>6</td>\n",
       "      <td>null</td>\n",
       "    </tr>\n",
       "    <tr>\n",
       "      <th>6</th>\n",
       "      <td>21</td>\n",
       "      <td>7</td>\n",
       "      <td>Trauma Center</td>\n",
       "    </tr>\n",
       "    <tr>\n",
       "      <th>7</th>\n",
       "      <td>320</td>\n",
       "      <td>8</td>\n",
       "      <td>Not Mapped</td>\n",
       "    </tr>\n",
       "  </tbody>\n",
       "</table>\n",
       "</div>"
      ],
      "text/plain": [
       "   # of admissions  admission type    description\n",
       "0  53990            1               Emergency    \n",
       "1  18480            2               Urgent       \n",
       "2  18869            3               Elective     \n",
       "3  10               4               Newborn      \n",
       "4  4785             5               Not Available\n",
       "5  5291             6               null         \n",
       "6  21               7               Trauma Center\n",
       "7  320              8               Not Mapped   "
      ]
     },
     "execution_count": 8,
     "metadata": {},
     "output_type": "execute_result"
    }
   ],
   "source": [
    "# Table of description of admission type id's (from IDs_mapping.csv)\n",
    "admin_type = [1,2,3,4,5,6,7,8]\n",
    "description = ['Emergency','Urgent','Elective','Newborn','Not Available','null','Trauma Center','Not Mapped']\n",
    "number = df.admission_type_id.value_counts(sort = False).tolist()\n",
    "admin_df = pd.DataFrame({'admission type': admin_type, 'description': description, '# of admissions':number})\n",
    "admin_df"
   ]
  },
  {
   "cell_type": "code",
   "execution_count": 9,
   "metadata": {},
   "outputs": [
    {
     "data": {
      "text/plain": [
       "Text(0,0.5,'# of Admissions')"
      ]
     },
     "execution_count": 9,
     "metadata": {},
     "output_type": "execute_result"
    },
    {
     "data": {
      "image/png": "[encoded data removed]",
      "text/plain": [
       "<matplotlib.figure.Figure at 0x2c5e92f0c50>"
      ]
     },
     "metadata": {},
     "output_type": "display_data"
    }
   ],
   "source": [
    "# Visualization of # of Admissions per admission type\n",
    "plt.bar(admin_df['admission type'], admin_df['# of admissions'])\n",
    "plt.xlabel('Admission Type')\n",
    "plt.ylabel('# of Admissions')"
   ]
  },
  {
   "cell_type": "code",
   "execution_count": 10,
   "metadata": {},
   "outputs": [
    {
     "name": "stdout",
     "output_type": "stream",
     "text": [
      "admission_type_id\n",
      "1    11.522504\n",
      "2    11.179654\n",
      "3    10.392708\n",
      "4    10.000000\n",
      "5    10.344828\n",
      "6    11.075411\n",
      "7    0.000000 \n",
      "8    8.437500 \n",
      "Name: readmit_bin, dtype: float64\n"
     ]
    },
    {
     "data": {
      "text/plain": [
       "Text(0,0.5,'% readmitted')"
      ]
     },
     "execution_count": 10,
     "metadata": {},
     "output_type": "execute_result"
    },
    {
     "data": {
      "image/png": "[encoded data removed]",
      "text/plain": [
       "<matplotlib.figure.Figure at 0x2c5ece7cfd0>"
      ]
     },
     "metadata": {},
     "output_type": "display_data"
    }
   ],
   "source": [
    "# Is the admission type category related to readmission rate?  \n",
    "percent_readmit_by_admintype = df.groupby('admission_type_id')['readmit_bin'].sum()/df.groupby('admission_type_id')['readmit_bin'].count() * 100\n",
    "print(percent_readmit_by_admintype)\n",
    "percent_readmit_by_admintype.plot.bar(); plt.ylabel('% readmitted')"
   ]
  },
  {
   "cell_type": "code",
   "execution_count": 11,
   "metadata": {},
   "outputs": [],
   "source": [
    "# TODO: Group the admission type - not available, null, and not mapped can be one category.\n",
    "# Try grouping 5,6, and 8 (all in the missing or not available category) and see if this relationship changes.\n",
    "# Question: how do I efficiently group these features?"
   ]
  },
  {
   "cell_type": "code",
   "execution_count": 12,
   "metadata": {},
   "outputs": [],
   "source": [
    "# TODO: Group the admission type - not available, null, and not mapped can be one category.  See if there is a relationship\n",
    "# TODO: Group the diagnosis codes into similar categories - like heart/circulatory, pulmonary"
   ]
  },
  {
   "cell_type": "markdown",
   "metadata": {},
   "source": [
    "# Discharge Disposition ID #"
   ]
  },
  {
   "cell_type": "code",
   "execution_count": 13,
   "metadata": {},
   "outputs": [
    {
     "data": {
      "text/html": [
       "<div>\n",
       "<style scoped>\n",
       "    .dataframe tbody tr th:only-of-type {\n",
       "        vertical-align: middle;\n",
       "    }\n",
       "\n",
       "    .dataframe tbody tr th {\n",
       "        vertical-align: top;\n",
       "    }\n",
       "\n",
       "    .dataframe thead th {\n",
       "        text-align: right;\n",
       "    }\n",
       "</style>\n",
       "<table border=\"1\" class=\"dataframe\">\n",
       "  <thead>\n",
       "    <tr style=\"text-align: right;\">\n",
       "      <th></th>\n",
       "      <th>Description</th>\n",
       "    </tr>\n",
       "    <tr>\n",
       "      <th>Discharge Disposition ID</th>\n",
       "      <th></th>\n",
       "    </tr>\n",
       "  </thead>\n",
       "  <tbody>\n",
       "    <tr>\n",
       "      <th>1</th>\n",
       "      <td>Discharged to home</td>\n",
       "    </tr>\n",
       "    <tr>\n",
       "      <th>2</th>\n",
       "      <td>Discharged/transferred to another short term hospital</td>\n",
       "    </tr>\n",
       "    <tr>\n",
       "      <th>3</th>\n",
       "      <td>Discharged/transferred to SNF</td>\n",
       "    </tr>\n",
       "    <tr>\n",
       "      <th>4</th>\n",
       "      <td>Discharged/transferred to ICF</td>\n",
       "    </tr>\n",
       "    <tr>\n",
       "      <th>5</th>\n",
       "      <td>Discharged/transferred to another type of inpatient care institution</td>\n",
       "    </tr>\n",
       "  </tbody>\n",
       "</table>\n",
       "</div>"
      ],
      "text/plain": [
       "                                                                                   Description\n",
       "Discharge Disposition ID                                                                      \n",
       "1                         Discharged to home                                                  \n",
       "2                         Discharged/transferred to another short term hospital               \n",
       "3                         Discharged/transferred to SNF                                       \n",
       "4                         Discharged/transferred to ICF                                       \n",
       "5                         Discharged/transferred to another type of inpatient care institution"
      ]
     },
     "execution_count": 13,
     "metadata": {},
     "output_type": "execute_result"
    }
   ],
   "source": [
    "#Description is from the id_mappings.csv file provided with the original data set.\n",
    "discharge_type = [i+1 for i in range(30)]\n",
    "description = ['Discharged to home','Discharged/transferred to another short term hospital','Discharged/transferred to SNF',\n",
    "              'Discharged/transferred to ICF','Discharged/transferred to another type of inpatient care institution',\n",
    "              'Discharged/transferred to home with home health service','Left AMA',\n",
    "              'Discharged/transferred to home under care of Home IV provider','Admitted as an inpatient to this hospital',\n",
    "              'Neonate discharged to another hospital for neonatal aftercare','Expired',\n",
    "               'Still patient or expected to return for outpatient services','Hospice / home','Hospice / medical facility',\n",
    "               'Discharged/transferred within this institution to Medicare approved swing bed',\n",
    "               'Discharged/transferred/referred another institution for outpatient services',\n",
    "               'Discharged/transferred/referred to this institution for outpatient services','NULL',\n",
    "               'Expired at home. Medicaid only, hospice.','Expired in a medical facility. Medicaid only, hospice.',\n",
    "               'Expired, place unknown. Medicaid only, hospice.',\n",
    "               'Discharged/transferred to another rehab fac including rehab units of a hospital .',\n",
    "               'Discharged/transferred to a long term care hospital.',\n",
    "               'Discharged/transferred to a nursing facility certified under Medicaid but not certified under Medicare.',\n",
    "               'Not Mapped','Unknown/Invalid',\n",
    "               'Discharged/transferred to another Type of Health Care Institution not Defined Elsewhere',\n",
    "               'Discharged/transferred to a federal health care facility.',\n",
    "               'Discharged/transferred/referred to a psychiatric hospital of psychiatric distinct part unit of a hospital',\n",
    "               'Discharged/transferred to a Critical Access Hospital (CAH).']\n",
    "\n",
    "d2 = {'Discharge Disposition ID':discharge_type, 'Description':description}\n",
    "d2\n",
    "disch_descr = pd.DataFrame(d2, columns=['Discharge Disposition ID','Description'])\n",
    "disch_descr.set_index('Discharge Disposition ID').head()\n"
   ]
  },
  {
   "cell_type": "code",
   "execution_count": 14,
   "metadata": {},
   "outputs": [],
   "source": [
    "number = df.discharge_disposition_id.value_counts(sort = False).tolist()\n",
    "index = df.discharge_disposition_id.value_counts(sort=False).index.tolist()\n",
    "allnum = [i+1 for i in range(30)]\n",
    "all_df = pd.DataFrame(allnum)"
   ]
  },
  {
   "cell_type": "code",
   "execution_count": 15,
   "metadata": {},
   "outputs": [
    {
     "data": {
      "text/html": [
       "<div>\n",
       "<style scoped>\n",
       "    .dataframe tbody tr th:only-of-type {\n",
       "        vertical-align: middle;\n",
       "    }\n",
       "\n",
       "    .dataframe tbody tr th {\n",
       "        vertical-align: top;\n",
       "    }\n",
       "\n",
       "    .dataframe thead th {\n",
       "        text-align: right;\n",
       "    }\n",
       "</style>\n",
       "<table border=\"1\" class=\"dataframe\">\n",
       "  <thead>\n",
       "    <tr style=\"text-align: right;\">\n",
       "      <th></th>\n",
       "      <th>Unique Values</th>\n",
       "    </tr>\n",
       "    <tr>\n",
       "      <th>Discharge Disposition ID</th>\n",
       "      <th></th>\n",
       "    </tr>\n",
       "  </thead>\n",
       "  <tbody>\n",
       "    <tr>\n",
       "      <th>1</th>\n",
       "      <td>60234</td>\n",
       "    </tr>\n",
       "    <tr>\n",
       "      <th>2</th>\n",
       "      <td>2128</td>\n",
       "    </tr>\n",
       "    <tr>\n",
       "      <th>3</th>\n",
       "      <td>13954</td>\n",
       "    </tr>\n",
       "    <tr>\n",
       "      <th>4</th>\n",
       "      <td>815</td>\n",
       "    </tr>\n",
       "    <tr>\n",
       "      <th>5</th>\n",
       "      <td>1184</td>\n",
       "    </tr>\n",
       "  </tbody>\n",
       "</table>\n",
       "</div>"
      ],
      "text/plain": [
       "                          Unique Values\n",
       "Discharge Disposition ID               \n",
       "1                         60234        \n",
       "2                         2128         \n",
       "3                         13954        \n",
       "4                         815          \n",
       "5                         1184         "
      ]
     },
     "execution_count": 15,
     "metadata": {},
     "output_type": "execute_result"
    }
   ],
   "source": [
    "d = {'Unique Values':number, 'Discharge Disposition ID':index}\n",
    "disch_df = pd.DataFrame(d,columns=['Discharge Disposition ID','Unique Values'])\n",
    "disch_df.set_index('Discharge Disposition ID').head()"
   ]
  },
  {
   "cell_type": "code",
   "execution_count": 16,
   "metadata": {},
   "outputs": [
    {
     "data": {
      "text/html": [
       "<div>\n",
       "<style scoped>\n",
       "    .dataframe tbody tr th:only-of-type {\n",
       "        vertical-align: middle;\n",
       "    }\n",
       "\n",
       "    .dataframe tbody tr th {\n",
       "        vertical-align: top;\n",
       "    }\n",
       "\n",
       "    .dataframe thead th {\n",
       "        text-align: right;\n",
       "    }\n",
       "</style>\n",
       "<table border=\"1\" class=\"dataframe\">\n",
       "  <thead>\n",
       "    <tr style=\"text-align: right;\">\n",
       "      <th></th>\n",
       "      <th>Description</th>\n",
       "      <th>Unique Values</th>\n",
       "    </tr>\n",
       "    <tr>\n",
       "      <th>Discharge Disposition ID</th>\n",
       "      <th></th>\n",
       "      <th></th>\n",
       "    </tr>\n",
       "  </thead>\n",
       "  <tbody>\n",
       "    <tr>\n",
       "      <th>1</th>\n",
       "      <td>Discharged to home</td>\n",
       "      <td>60234.0</td>\n",
       "    </tr>\n",
       "    <tr>\n",
       "      <th>2</th>\n",
       "      <td>Discharged/transferred to another short term hospital</td>\n",
       "      <td>2128.0</td>\n",
       "    </tr>\n",
       "    <tr>\n",
       "      <th>3</th>\n",
       "      <td>Discharged/transferred to SNF</td>\n",
       "      <td>13954.0</td>\n",
       "    </tr>\n",
       "    <tr>\n",
       "      <th>4</th>\n",
       "      <td>Discharged/transferred to ICF</td>\n",
       "      <td>815.0</td>\n",
       "    </tr>\n",
       "    <tr>\n",
       "      <th>5</th>\n",
       "      <td>Discharged/transferred to another type of inpatient care institution</td>\n",
       "      <td>1184.0</td>\n",
       "    </tr>\n",
       "  </tbody>\n",
       "</table>\n",
       "</div>"
      ],
      "text/plain": [
       "                                                                                   Description  \\\n",
       "Discharge Disposition ID                                                                         \n",
       "1                         Discharged to home                                                     \n",
       "2                         Discharged/transferred to another short term hospital                  \n",
       "3                         Discharged/transferred to SNF                                          \n",
       "4                         Discharged/transferred to ICF                                          \n",
       "5                         Discharged/transferred to another type of inpatient care institution   \n",
       "\n",
       "                          Unique Values  \n",
       "Discharge Disposition ID                 \n",
       "1                         60234.0        \n",
       "2                         2128.0         \n",
       "3                         13954.0        \n",
       "4                         815.0          \n",
       "5                         1184.0         "
      ]
     },
     "execution_count": 16,
     "metadata": {},
     "output_type": "execute_result"
    }
   ],
   "source": [
    "df2 = pd.merge(disch_descr, disch_df, on = 'Discharge Disposition ID', how = 'left')\n",
    "df2.set_index('Discharge Disposition ID').head()"
   ]
  },
  {
   "cell_type": "markdown",
   "metadata": {},
   "source": [
    "### Interesting point: Most of the discharge type is to home, then to SNF (probably skilled nursing facility - need to confirm),  then to home health facility."
   ]
  },
  {
   "cell_type": "code",
   "execution_count": 17,
   "metadata": {},
   "outputs": [
    {
     "data": {
      "text/plain": [
       "Text(0,0.5,'# of encounters')"
      ]
     },
     "execution_count": 17,
     "metadata": {},
     "output_type": "execute_result"
    },
    {
     "data": {
      "image/png": "[encoded data removed]",
      "text/plain": [
       "<matplotlib.figure.Figure at 0x2c5ecdeddd8>"
      ]
     },
     "metadata": {},
     "output_type": "display_data"
    }
   ],
   "source": [
    "plt.bar(df2['Discharge Disposition ID'],  df2['Unique Values'])\n",
    "plt.xlabel('discharge disposition ID')\n",
    "plt.ylabel('# of encounters')"
   ]
  },
  {
   "cell_type": "code",
   "execution_count": 18,
   "metadata": {},
   "outputs": [
    {
     "name": "stdout",
     "output_type": "stream",
     "text": [
      "1    60234\n",
      "3    13954\n",
      "6    12902\n",
      "Name: discharge_disposition_id, dtype: int64\n"
     ]
    },
    {
     "data": {
      "text/plain": [
       "Text(0,0.5,'% readmitted')"
      ]
     },
     "execution_count": 18,
     "metadata": {},
     "output_type": "execute_result"
    },
    {
     "data": {
      "image/png": "[encoded data removed]",
      "text/plain": [
       "<matplotlib.figure.Figure at 0x2c5ed020c88>"
      ]
     },
     "metadata": {},
     "output_type": "display_data"
    }
   ],
   "source": [
    "# Is there any kind of trend between readmission and the three most common discharge types?\n",
    "top_dis = df[(df.discharge_disposition_id == 1) | (df.discharge_disposition_id == 3) | (df.discharge_disposition_id == 6) ]\n",
    "#top_dis = df[pd.notnull(top_dis.discharge_disposition_id)]\n",
    "print(top_dis.discharge_disposition_id.value_counts())\n",
    "percent_readmit_by_discharge_type = top_dis.groupby('discharge_disposition_id')['readmit_bin'].sum()/df.groupby('discharge_disposition_id')['readmit_bin'].count() * 100\n",
    "\n",
    "percent_readmit_by_discharge_type.plot.bar(); plt.ylabel('% readmitted')\n",
    "# Question: How do I show only types 1, 3, and 6?"
   ]
  },
  {
   "cell_type": "markdown",
   "metadata": {},
   "source": [
    "# Discharge type vs Readmission rate\n",
    "Being discharged to skilled nursing has a higher readmit rate, then to home health facility, then lowest with home discharge.\n",
    "\n",
    "This makes sense because one would imagine that people who are less able to care for themselves upon discharge might be at risk for being readmitted sooner because their condition is worse!"
   ]
  },
  {
   "cell_type": "markdown",
   "metadata": {},
   "source": [
    "# Numeric measures: Features 12-17 #\n",
    "Features 12 - 17 are numeric features like number of lab procedures, number of medications, number of visits, etc.  I will compare % readmittance with each of these numeric features.  "
   ]
  },
  {
   "cell_type": "code",
   "execution_count": 19,
   "metadata": {},
   "outputs": [
    {
     "data": {
      "text/plain": [
       "(array([46652., 20742.,     0., 12717.,     0.,  9443.,  4180.,     0.,\n",
       "         3078.,  4954.]),\n",
       " array([0. , 0.6, 1.2, 1.8, 2.4, 3. , 3.6, 4.2, 4.8, 5.4, 6. ]),\n",
       " <a list of 10 Patch objects>)"
      ]
     },
     "execution_count": 19,
     "metadata": {},
     "output_type": "execute_result"
    },
    {
     "data": {
      "image/png": "[encoded data removed]",
      "text/plain": [
       "<matplotlib.figure.Figure at 0x2c5ecf73a58>"
      ]
     },
     "metadata": {},
     "output_type": "display_data"
    }
   ],
   "source": [
    "# How are number of procedures distributed?\n",
    "plt.hist(df.num_procedures)"
   ]
  },
  {
   "cell_type": "code",
   "execution_count": 20,
   "metadata": {},
   "outputs": [],
   "source": [
    "num_df = df.iloc[:,11:17]"
   ]
  },
  {
   "cell_type": "code",
   "execution_count": 21,
   "metadata": {},
   "outputs": [],
   "source": [
    "num_df = pd.concat([num_df, df.readmit_bin], axis=1)"
   ]
  },
  {
   "cell_type": "code",
   "execution_count": 22,
   "metadata": {},
   "outputs": [
    {
     "data": {
      "image/png": "[encoded data removed]",
      "text/plain": [
       "<matplotlib.figure.Figure at 0x2c5ece52630>"
      ]
     },
     "metadata": {},
     "output_type": "display_data"
    }
   ],
   "source": [
    "b = num_df.boxplot()\n",
    "b.axes.set_title(\"Boxplot of six numeric features from the data set\",fontsize=50)\n",
    "b.set_xlabel(\"Numeric Feature\",fontsize=30)\n",
    "b.set_ylabel(\"Number\",fontsize=20)\n",
    "b.tick_params(labelsize=20)\n",
    "plt.rcParams['figure.figsize'] = [30, 30]\n",
    "\n",
    "# Question: How do I get this plot to show up in a more readable format?"
   ]
  },
  {
   "cell_type": "code",
   "execution_count": 23,
   "metadata": {},
   "outputs": [
    {
     "data": {
      "text/plain": [
       "Text(0.5,0,'# of visits')"
      ]
     },
     "execution_count": 23,
     "metadata": {},
     "output_type": "execute_result"
    },
    {
     "data": {
      "image/png": "[encoded data removed]",
      "text/plain": [
       "<matplotlib.figure.Figure at 0x2c5ed248320>"
      ]
     },
     "metadata": {},
     "output_type": "display_data"
    }
   ],
   "source": [
    "# Plot the histograms for each feature, giving unique titles, and axes labels for each\n",
    "plt.rcParams['figure.figsize'] = [15,10]\n",
    "plt.style.use('ggplot')\n",
    "plt.subplot(2,3,1)\n",
    "plt.hist(num_df['num_lab_procedures'])\n",
    "plt.title('Number of Lab Procedures')\n",
    "plt.ylabel('# of occurrences')\n",
    "plt.xlabel('# of lab procedures')\n",
    "plt.subplot(2,3,2)\n",
    "plt.hist(num_df['num_medications'])\n",
    "plt.title('Number of Medications')\n",
    "plt.ylabel('# of occurences')\n",
    "plt.xlabel('# of medications')\n",
    "plt.subplot(2,3,3)\n",
    "plt.hist(num_df['num_procedures'])\n",
    "plt.title('Number of Procedures')\n",
    "plt.ylabel('# of occurences')\n",
    "plt.xlabel('# of procedures')\n",
    "plt.subplot(2,3,4)\n",
    "plt.hist(num_df['number_emergency'])\n",
    "plt.title('Number of Emergency Visits')\n",
    "plt.ylabel('# of occurences')\n",
    "plt.xlabel('# of visits')\n",
    "plt.subplot(2,3,5)\n",
    "plt.hist(num_df['number_inpatient'])\n",
    "plt.title('Number of Inpatient Visits in previous year')\n",
    "plt.ylabel('# of occurences')\n",
    "plt.xlabel('# of visits')\n",
    "plt.subplot(2,3,6)\n",
    "plt.hist(num_df['number_outpatient'], bins = 20)\n",
    "plt.title('Number of Oupatient Visits in previous year')\n",
    "plt.ylabel('# of occurences')\n",
    "plt.xlabel('# of visits')"
   ]
  },
  {
   "cell_type": "code",
   "execution_count": 24,
   "metadata": {},
   "outputs": [
    {
     "name": "stdout",
     "output_type": "stream",
     "text": [
      "------------------------------------------\n",
      "\n",
      "readmit_bin\n",
      "0    42.953644\n",
      "1    44.226028\n",
      "Name: num_lab_procedures, dtype: float64\n",
      "------------------------------------------\n",
      "\n",
      "readmit_bin\n",
      "0    1.347123\n",
      "1    1.280884\n",
      "Name: num_procedures, dtype: float64\n",
      "------------------------------------------\n",
      "\n",
      "readmit_bin\n",
      "0    15.911137\n",
      "1    16.903143\n",
      "Name: num_medications, dtype: float64\n",
      "------------------------------------------\n",
      "\n",
      "readmit_bin\n",
      "0    0.360871\n",
      "1    0.436911\n",
      "Name: number_outpatient, dtype: float64\n",
      "------------------------------------------\n",
      "\n",
      "readmit_bin\n",
      "0    0.177803\n",
      "1    0.357313\n",
      "Name: number_emergency, dtype: float64\n",
      "------------------------------------------\n",
      "\n",
      "readmit_bin\n",
      "0    0.561648\n",
      "1    1.224003\n",
      "Name: number_inpatient, dtype: float64\n"
     ]
    }
   ],
   "source": [
    "# Number of lab procedures, number of medications, and number of procedures have the most spread so will compare these to\n",
    "# readmit rate\n",
    "# Question: How do I plot the following as a group of subplots?\n",
    "c = []\n",
    "for i in ['num_lab_procedures', 'num_procedures', 'num_medications', 'number_outpatient', 'number_emergency', 'number_inpatient']:\n",
    "    \n",
    "    print('------------------------------------------' +'\\n')\n",
    "    print(num_df.groupby('readmit_bin')[i].sum()/num_df.groupby('readmit_bin')[i].count() )\n",
    "    c.append(num_df.groupby('readmit_bin')[i].sum()/num_df.groupby('readmit_bin')[i].count())         "
   ]
  },
  {
   "cell_type": "markdown",
   "metadata": {},
   "source": [
    "# Number of inpatient, outpatient, and emergency visits in the previous year makes a difference to readmission rate.\n",
    "Interesting point: The number of inpatient visits in the last year, number of outpatient visits in the last year, and number of emergency visits have the most increased readmission rate.\n",
    "\n",
    "This is plausible, again as a marker of how much treatment the patient has received over the previous year."
   ]
  },
  {
   "cell_type": "code",
   "execution_count": 25,
   "metadata": {},
   "outputs": [
    {
     "data": {
      "text/plain": [
       "Text(0.5,0,'# of diagnoses')"
      ]
     },
     "execution_count": 25,
     "metadata": {},
     "output_type": "execute_result"
    },
    {
     "data": {
      "image/png": "[encoded data removed]",
      "text/plain": [
       "<matplotlib.figure.Figure at 0x2c5ed23c828>"
      ]
     },
     "metadata": {},
     "output_type": "display_data"
    }
   ],
   "source": [
    "# Number of diagnoses\n",
    "plt.hist(df['number_diagnoses'])\n",
    "plt.title('Number of Diagnoses')\n",
    "plt.ylabel('# of occurrences')\n",
    "plt.xlabel('# of diagnoses')\n"
   ]
  },
  {
   "cell_type": "code",
   "execution_count": 26,
   "metadata": {},
   "outputs": [
    {
     "data": {
      "text/plain": [
       "readmit_bin\n",
       "0    7.388667\n",
       "1    7.692789\n",
       "Name: number_diagnoses, dtype: float64"
      ]
     },
     "execution_count": 26,
     "metadata": {},
     "output_type": "execute_result"
    }
   ],
   "source": [
    "df.groupby('readmit_bin')['number_diagnoses'].sum()/df.groupby('readmit_bin')['number_diagnoses'].count()"
   ]
  },
  {
   "cell_type": "markdown",
   "metadata": {},
   "source": [
    "## Drugs administered - by name##\n",
    "Features at index 23 - 46 represent drugs administered to the patient while at the hospital.\n",
    "Does the data show any interesting trends?"
   ]
  },
  {
   "cell_type": "code",
   "execution_count": 27,
   "metadata": {},
   "outputs": [
    {
     "data": {
      "text/plain": [
       "No        81778\n",
       "Steady    18346\n",
       "Up        1067 \n",
       "Down      575  \n",
       "Name: metformin, dtype: int64"
      ]
     },
     "execution_count": 27,
     "metadata": {},
     "output_type": "execute_result"
    }
   ],
   "source": [
    "df.metformin.value_counts()"
   ]
  },
  {
   "cell_type": "code",
   "execution_count": 28,
   "metadata": {},
   "outputs": [
    {
     "name": "stdout",
     "output_type": "stream",
     "text": [
      "metformin\n",
      "Down      12.000000\n",
      "No        11.516545\n",
      "Steady    9.713289 \n",
      "Up        8.247423 \n",
      "Name: readmit_bin, dtype: float64\n"
     ]
    },
    {
     "data": {
      "text/plain": [
       "Text(0,0.5,'% readmitted')"
      ]
     },
     "execution_count": 28,
     "metadata": {},
     "output_type": "execute_result"
    },
    {
     "data": {
      "image/png": "[encoded data removed]",
      "text/plain": [
       "<matplotlib.figure.Figure at 0x2c5ed23c358>"
      ]
     },
     "metadata": {},
     "output_type": "display_data"
    }
   ],
   "source": [
    "percent_readmit_by_drug_level = df.groupby('metformin')['readmit_bin'].sum()/df.groupby('metformin')['readmit_bin'].count() * 100\n",
    "print(percent_readmit_by_drug_level)\n",
    "percent_readmit_by_drug_level.plot.bar(); plt.ylabel('% readmitted')"
   ]
  },
  {
   "cell_type": "code",
   "execution_count": 29,
   "metadata": {},
   "outputs": [],
   "source": [
    "colnames = df.columns.tolist()"
   ]
  },
  {
   "cell_type": "code",
   "execution_count": 30,
   "metadata": {},
   "outputs": [],
   "source": [
    "drug_list = colnames[23:46]"
   ]
  },
  {
   "cell_type": "code",
   "execution_count": 31,
   "metadata": {
    "scrolled": false
   },
   "outputs": [
    {
     "name": "stdout",
     "output_type": "stream",
     "text": [
      "metformin\n",
      "Down      12.000000\n",
      "No        11.516545\n",
      "Steady    9.713289 \n",
      "Up        8.247423 \n",
      "Name: readmit_bin, dtype: float64\n",
      "repaglinide\n",
      "Down      6.666667 \n",
      "No        11.126742\n",
      "Steady    13.150289\n",
      "Up        18.181818\n",
      "Name: readmit_bin, dtype: float64\n",
      "nateglinide\n",
      "Down      9.090909 \n",
      "No        11.158386\n",
      "Steady    11.676647\n",
      "Up        4.166667 \n",
      "Name: readmit_bin, dtype: float64\n",
      "chlorpropamide\n",
      "Down      0.000000 \n",
      "No        11.164437\n",
      "Steady    6.329114 \n",
      "Up        0.000000 \n",
      "Name: readmit_bin, dtype: float64\n",
      "glimepiride\n",
      "Down      12.886598\n",
      "No        11.210976\n",
      "Steady    10.021413\n",
      "Up        11.314985\n",
      "Name: readmit_bin, dtype: float64\n",
      "acetohexamide\n",
      "No        11.160026\n",
      "Steady    0.000000 \n",
      "Name: readmit_bin, dtype: float64\n",
      "glipizide\n",
      "Down      15.178571\n",
      "No        11.119219\n",
      "Steady    11.165903\n",
      "Up        12.857143\n",
      "Name: readmit_bin, dtype: float64\n",
      "glyburide\n",
      "Down      9.219858 \n",
      "No        11.221959\n",
      "Steady    10.728920\n",
      "Up        10.467980\n",
      "Name: readmit_bin, dtype: float64\n",
      "tolbutamide\n",
      "No        11.161456\n",
      "Steady    4.347826 \n",
      "Name: readmit_bin, dtype: float64\n",
      "pioglitazone\n",
      "Down      15.254237\n",
      "No        11.206294\n",
      "Steady    10.421445\n",
      "Up        12.393162\n",
      "Name: readmit_bin, dtype: float64\n",
      "rosiglitazone\n",
      "Down      5.747126 \n",
      "No        11.207430\n",
      "Steady    10.508197\n",
      "Up        10.674157\n",
      "Name: readmit_bin, dtype: float64\n",
      "acarbose\n",
      "Down      33.333333\n",
      "No        11.166197\n",
      "Steady    8.474576 \n",
      "Up        20.000000\n",
      "Name: readmit_bin, dtype: float64\n",
      "miglitol\n",
      "Down      40.000000\n",
      "No        11.160153\n",
      "Steady    6.451613 \n",
      "Up        0.000000 \n",
      "Name: readmit_bin, dtype: float64\n",
      "troglitazone\n",
      "No        11.160245\n",
      "Steady    0.000000 \n",
      "Name: readmit_bin, dtype: float64\n",
      "tolazamide\n",
      "No        11.161245\n",
      "Steady    7.894737 \n",
      "Up        0.000000 \n",
      "Name: readmit_bin, dtype: float64\n",
      "examide\n",
      "No    11.159916\n",
      "Name: readmit_bin, dtype: float64\n",
      "citoglipton\n",
      "No    11.159916\n",
      "Name: readmit_bin, dtype: float64\n",
      "insulin\n",
      "Down      13.897528\n",
      "No        10.037355\n",
      "Steady    11.128400\n",
      "Up        12.990456\n",
      "Name: readmit_bin, dtype: float64\n",
      "glyburide-metformin\n",
      "Down      16.666667\n",
      "No        11.160697\n",
      "Steady    11.127168\n",
      "Up        0.000000 \n",
      "Name: readmit_bin, dtype: float64\n",
      "glipizide-metformin\n",
      "No        11.160359\n",
      "Steady    7.692308 \n",
      "Name: readmit_bin, dtype: float64\n",
      "glimepiride-pioglitazone\n",
      "No        11.160026\n",
      "Steady    0.000000 \n",
      "Name: readmit_bin, dtype: float64\n",
      "metformin-rosiglitazone\n",
      "No        11.160135\n",
      "Steady    0.000000 \n",
      "Name: readmit_bin, dtype: float64\n",
      "metformin-pioglitazone\n",
      "No        11.160026\n",
      "Steady    0.000000 \n",
      "Name: readmit_bin, dtype: float64\n"
     ]
    }
   ],
   "source": [
    "for d in drug_list:\n",
    "    percent_readmit_by_drug_level = df.groupby(d)['readmit_bin'].sum()/df.groupby(d)['readmit_bin'].count() * 100\n",
    "    print(percent_readmit_by_drug_level)\n",
    "    #percent_readmit_by_drug_level.plot.bar(); plt.ylabel('% readmitted')"
   ]
  },
  {
   "cell_type": "code",
   "execution_count": 32,
   "metadata": {},
   "outputs": [
    {
     "data": {
      "text/plain": [
       "23"
      ]
     },
     "execution_count": 32,
     "metadata": {},
     "output_type": "execute_result"
    }
   ],
   "source": [
    "len(drug_list)"
   ]
  },
  {
   "cell_type": "code",
   "execution_count": 33,
   "metadata": {},
   "outputs": [
    {
     "data": {
      "image/png": "[encoded data removed]",
      "text/plain": [
       "<matplotlib.figure.Figure at 0x2c5ed7336a0>"
      ]
     },
     "metadata": {},
     "output_type": "display_data"
    }
   ],
   "source": [
    "\n",
    "count = 1\n",
    "for d in drug_list:\n",
    "    plt.subplot(8, 3,count)\n",
    "    count += 1\n",
    "    percent_readmit_by_drug_level = df.groupby(d)['readmit_bin'].sum()/df.groupby(d)['readmit_bin'].count() * 100\n",
    "    percent_readmit_by_drug_level.plot.bar()\n",
    "    plt.ylabel('% read')\n",
    "    plt.title(d)\n",
    "plt.style.use('ggplot')\n",
    "plt.tight_layout(pad=1, w_pad=0.5, h_pad=.1)\n",
    "#plt.rcParams['figure.figsize'] = [30,10]\n",
    "# Question: How do I display these plots at a reasonable size and where the order is the same for each\n",
    "#(including displaying an empty bar if there is no value for a particular category in that feature. \n",
    "# e.g., acetohexamide does not have 'Down' or 'Up' but it would be desirable to see that as a 0 bar for each).\n",
    "\n"
   ]
  },
  {
   "cell_type": "code",
   "execution_count": null,
   "metadata": {},
   "outputs": [],
   "source": []
  }
 ],
 "metadata": {
  "kernelspec": {
   "display_name": "Python 3",
   "language": "python",
   "name": "python3"
  },
  "language_info": {
   "codemirror_mode": {
    "name": "ipython",
    "version": 3
   },
   "file_extension": ".py",
   "mimetype": "text/x-python",
   "name": "python",
   "nbconvert_exporter": "python",
   "pygments_lexer": "ipython3",
   "version": "3.6.4"
  }
 },
 "nbformat": 4,
 "nbformat_minor": 2
}
